{
  "nbformat": 4,
  "nbformat_minor": 0,
  "metadata": {
    "colab": {
      "provenance": [],
      "authorship_tag": "ABX9TyMT1saE19vZ/lmmz9WbgEVF",
      "include_colab_link": true
    },
    "kernelspec": {
      "name": "python3",
      "display_name": "Python 3"
    },
    "language_info": {
      "name": "python"
    }
  },
  "cells": [
    {
      "cell_type": "markdown",
      "metadata": {
        "id": "view-in-github",
        "colab_type": "text"
      },
      "source": [
        "<a href=\"https://colab.research.google.com/github/Geunyeong-Kwon/test/blob/main/%ED%8C%8C%EC%9D%B4%EC%8D%AC_%EA%B8%B0%EC%B4%88(2).ipynb\" target=\"_parent\"><img src=\"https://colab.research.google.com/assets/colab-badge.svg\" alt=\"Open In Colab\"/></a>"
      ]
    },
    {
      "cell_type": "code",
      "execution_count": null,
      "metadata": {
        "colab": {
          "base_uri": "https://localhost:8080/"
        },
        "id": "lGvs-DGSe40X",
        "outputId": "78684ccf-37c9-491e-c104-020356a0906b"
      },
      "outputs": [
        {
          "output_type": "stream",
          "name": "stdout",
          "text": [
            "0 1 2 3 4 5 6 7 8 9 \n",
            "4 6 8 \n",
            "10 8 6 "
          ]
        }
      ],
      "source": [
        "for i in range(10):\n",
        "  print(i,end=' ')\n",
        "\n",
        "print()\n",
        "for i in range(4,10,2):\n",
        "  print(i,end=' ')\n",
        "\n",
        "print()\n",
        "for i in range(10,4,-2):\n",
        "  print(i,end=' ')"
      ]
    },
    {
      "cell_type": "code",
      "source": [
        "print('List1')\n",
        "for i in [0,1,2,3]:\n",
        "  print(i,end=' ')\n",
        "\n",
        "print(),print('\\nList2')\n",
        "s=[4,5,6]\n",
        "for i in s:\n",
        "  print(i,end=' ')\n",
        "\n",
        "print(),print('\\nTuple')\n",
        "for i in (7,8,9):\n",
        "  print(i,end=' ')\n",
        "\n",
        "print(),print('\\nDictionary')\n",
        "d={1:10,2:20,3:30,10:40}\n",
        "for i in d:\n",
        "  print(i,':',d[i],end=' ')\n",
        "\n",
        "print(),print('\\nString')"
      ],
      "metadata": {
        "colab": {
          "base_uri": "https://localhost:8080/"
        },
        "id": "_3V4oH7_griw",
        "outputId": "e5bede61-0d81-4957-a778-934280b7423e"
      },
      "execution_count": null,
      "outputs": [
        {
          "output_type": "stream",
          "name": "stdout",
          "text": [
            "List1\n",
            "0 1 2 3 \n",
            "\n",
            "List2\n",
            "4 5 6 \n",
            "\n",
            "Tuple\n",
            "7 8 9 \n",
            "\n",
            "Dictionary\n",
            "1 : 10 2 : 20 3 : 30 10 : 40 \n",
            "\n",
            "String\n"
          ]
        },
        {
          "output_type": "execute_result",
          "data": {
            "text/plain": [
              "(None, None)"
            ]
          },
          "metadata": {},
          "execution_count": 2
        }
      ]
    },
    {
      "cell_type": "code",
      "source": [
        "a=3\n",
        "print(id(a))\n",
        "\n",
        "a+=1\n",
        "print(id(a)) #주소 다름\n",
        "\n",
        "print()\n",
        "s='test'\n",
        "print(id(s))\n",
        "s='trian'\n",
        "print(id(s)) #주소 다름\n",
        "\n",
        "print()\n",
        "b=[1,3,5,7]\n",
        "print(id(b))\n",
        "\n",
        "b.append('test')\n",
        "print(id(b)) #가변 타입은 추가해도 주소 바뀌지X\n"
      ],
      "metadata": {
        "id": "CpPobifwHAQE",
        "colab": {
          "base_uri": "https://localhost:8080/"
        },
        "outputId": "32cf5392-289b-4643-a77a-7e6c12dd62f4"
      },
      "execution_count": 2,
      "outputs": [
        {
          "output_type": "stream",
          "name": "stdout",
          "text": [
            "139986057820528\n",
            "139986057820560\n",
            "\n",
            "139986055211120\n",
            "139985536412912\n",
            "\n",
            "139986035672320\n",
            "139986035672320\n"
          ]
        }
      ]
    },
    {
      "cell_type": "code",
      "source": [
        "#리스트\n",
        "a=[1,3,5,7]\n",
        "print(a)\n",
        "\n",
        "for x in a:\n",
        "  print(x,end=':')\n",
        "print()\n",
        "\n",
        "#튜플\n",
        "t=(1,3,5,7)\n",
        "print(t)\n",
        "for x in t:\n",
        "  print(x,end=':')\n",
        "print()\n",
        "\n",
        "#딕셔너리\n",
        "d={1:10,3:20,5:30,10:40}\n",
        "d[3]=222\n",
        "d[5]=55\n",
        "for i in d:\n",
        "  print(i,':',d[i],end=',')\n",
        "print()\n",
        "\n",
        "#집합: 순서X 원소 중복X 원소 순서는 상관X 원소의 존재 유무만 중요\n",
        "a={1,3,5,7}\n",
        "a.add(3)\n",
        "a.add(10)\n",
        "print(a)\n"
      ],
      "metadata": {
        "id": "4AQHIf9LG5cx",
        "colab": {
          "base_uri": "https://localhost:8080/"
        },
        "outputId": "dd110202-ce9b-417d-8219-b6c49a9a21a6"
      },
      "execution_count": 4,
      "outputs": [
        {
          "output_type": "stream",
          "name": "stdout",
          "text": [
            "[1, 3, 5, 7]\n",
            "1:3:5:7:\n",
            "(1, 3, 5, 7)\n",
            "1:3:5:7:\n",
            "1 : 10,3 : 222,5 : 55,10 : 40,\n",
            "{1, 3, 5, 7, 10}\n"
          ]
        }
      ]
    },
    {
      "cell_type": "code",
      "source": [
        "def twofold1(a):\n",
        "  a=2*a\n",
        "\n",
        "def twofold2(a):\n",
        "  a=2*a\n",
        "  return a\n",
        "\n",
        "x=5\n",
        "twofold1(x)\n",
        "print(x) #a값 리턴하지 않기 때문에 5 출력, 복사호출\n",
        "\n",
        "x=5\n",
        "twofold2(x)\n",
        "print(x) #a값 리턴해서 10 출력, 참조호출\n",
        "\n",
        "def sample(a:int,b):\n",
        "  a=2*a\n",
        "  b.append('test')\n",
        "\n",
        "x=5 #정수(불변 타입) -> 복사호출\n",
        "y=[1,2] #리스트(가변 타입) -> 참조호출\n",
        "sample(x,y) #x값은 불변, y값은 가변\n",
        "\n",
        "print(x)\n",
        "print(y)\n",
        "\n",
        "\n"
      ],
      "metadata": {
        "id": "BtWAjN3CG50o",
        "colab": {
          "base_uri": "https://localhost:8080/"
        },
        "outputId": "ede5ca61-ac1a-4968-ba08-f9d748fdb5f6"
      },
      "execution_count": 6,
      "outputs": [
        {
          "output_type": "stream",
          "name": "stdout",
          "text": [
            "5\n",
            "5\n",
            "5\n",
            "[1, 2, 'test']\n"
          ]
        }
      ]
    },
    {
      "cell_type": "markdown",
      "source": [],
      "metadata": {
        "id": "44h5SDW4NSdD"
      }
    },
    {
      "cell_type": "code",
      "source": [
        "#클래스\n",
        "class Sample:\n",
        "  def __init__(self):\n",
        "    self.counter=0\n",
        "  def numEven(self,n): #self가 매개변수로 지정되어야 함\n",
        "    for k in range(n):\n",
        "      if k % 2 == 0:\n",
        "        self.counter += 1\n",
        "    return self.counter #self.counter값이 리턴되어야 함\n",
        "\n",
        "s=Sample()\n",
        "print('# of enen integers =',s.numEven(15))"
      ],
      "metadata": {
        "colab": {
          "base_uri": "https://localhost:8080/"
        },
        "id": "jUNcGdB8NQ5i",
        "outputId": "77238aee-7ec0-4991-e9b0-80e5507de997"
      },
      "execution_count": 8,
      "outputs": [
        {
          "output_type": "stream",
          "name": "stdout",
          "text": [
            "# of enen integers = 8\n"
          ]
        }
      ]
    },
    {
      "cell_type": "markdown",
      "source": [],
      "metadata": {
        "id": "CkIqI71lG68q"
      }
    }
  ]
}