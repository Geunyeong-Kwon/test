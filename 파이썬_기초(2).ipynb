{
  "nbformat": 4,
  "nbformat_minor": 0,
  "metadata": {
    "colab": {
      "provenance": [],
      "authorship_tag": "ABX9TyMaRJ6r1BqQbO7XZhEz7T3T",
      "include_colab_link": true
    },
    "kernelspec": {
      "name": "python3",
      "display_name": "Python 3"
    },
    "language_info": {
      "name": "python"
    }
  },
  "cells": [
    {
      "cell_type": "markdown",
      "metadata": {
        "id": "view-in-github",
        "colab_type": "text"
      },
      "source": [
        "<a href=\"https://colab.research.google.com/github/Geunyeong-Kwon/test/blob/main/%ED%8C%8C%EC%9D%B4%EC%8D%AC_%EA%B8%B0%EC%B4%88(2).ipynb\" target=\"_parent\"><img src=\"https://colab.research.google.com/assets/colab-badge.svg\" alt=\"Open In Colab\"/></a>"
      ]
    },
    {
      "cell_type": "code",
      "execution_count": 1,
      "metadata": {
        "colab": {
          "base_uri": "https://localhost:8080/"
        },
        "id": "lGvs-DGSe40X",
        "outputId": "78684ccf-37c9-491e-c104-020356a0906b"
      },
      "outputs": [
        {
          "output_type": "stream",
          "name": "stdout",
          "text": [
            "0 1 2 3 4 5 6 7 8 9 \n",
            "4 6 8 \n",
            "10 8 6 "
          ]
        }
      ],
      "source": [
        "for i in range(10):\n",
        "  print(i,end=' ')\n",
        "\n",
        "print()\n",
        "for i in range(4,10,2):\n",
        "  print(i,end=' ')\n",
        "\n",
        "print()\n",
        "for i in range(10,4,-2):\n",
        "  print(i,end=' ')"
      ]
    },
    {
      "cell_type": "code",
      "source": [
        "print('List1')\n",
        "for i in [0,1,2,3]:\n",
        "  print(i,end=' ')\n",
        "\n",
        "print(),print('\\nList2')\n",
        "s=[4,5,6]\n",
        "for i in s:\n",
        "  print(i,end=' ')\n",
        "\n",
        "print(),print('\\nTuple')\n",
        "for i in (7,8,9):\n",
        "  print(i,end=' ')\n",
        "\n",
        "print(),print('\\nDictionary')\n",
        "d={1:10,2:20,3:30,10:40}\n",
        "for i in d:\n",
        "  print(i,':',d[i],end=' ')\n",
        "\n",
        "print(),print('\\nString')"
      ],
      "metadata": {
        "colab": {
          "base_uri": "https://localhost:8080/"
        },
        "id": "_3V4oH7_griw",
        "outputId": "e5bede61-0d81-4957-a778-934280b7423e"
      },
      "execution_count": 2,
      "outputs": [
        {
          "output_type": "stream",
          "name": "stdout",
          "text": [
            "List1\n",
            "0 1 2 3 \n",
            "\n",
            "List2\n",
            "4 5 6 \n",
            "\n",
            "Tuple\n",
            "7 8 9 \n",
            "\n",
            "Dictionary\n",
            "1 : 10 2 : 20 3 : 30 10 : 40 \n",
            "\n",
            "String\n"
          ]
        },
        {
          "output_type": "execute_result",
          "data": {
            "text/plain": [
              "(None, None)"
            ]
          },
          "metadata": {},
          "execution_count": 2
        }
      ]
    }
  ]
}