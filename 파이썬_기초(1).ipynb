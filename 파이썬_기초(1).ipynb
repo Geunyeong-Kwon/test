{
  "nbformat": 4,
  "nbformat_minor": 0,
  "metadata": {
    "colab": {
      "provenance": [],
      "authorship_tag": "ABX9TyPEYVkhIUfSQuRSG/HTQB/W",
      "include_colab_link": true
    },
    "kernelspec": {
      "name": "python3",
      "display_name": "Python 3"
    },
    "language_info": {
      "name": "python"
    }
  },
  "cells": [
    {
      "cell_type": "markdown",
      "metadata": {
        "id": "view-in-github",
        "colab_type": "text"
      },
      "source": [
        "<a href=\"https://colab.research.google.com/github/Geunyeong-Kwon/test/blob/main/%ED%8C%8C%EC%9D%B4%EC%8D%AC_%EA%B8%B0%EC%B4%88(1).ipynb\" target=\"_parent\"><img src=\"https://colab.research.google.com/assets/colab-badge.svg\" alt=\"Open In Colab\"/></a>"
      ]
    },
    {
      "cell_type": "code",
      "execution_count": 1,
      "metadata": {
        "colab": {
          "base_uri": "https://localhost:8080/"
        },
        "id": "PiYmwUrHnLOj",
        "outputId": "14ea9c8f-b5c6-4bb0-b8c9-8423c4f0fac3"
      },
      "outputs": [
        {
          "output_type": "stream",
          "name": "stdout",
          "text": [
            "[3, 15, 20, 50]\n"
          ]
        }
      ],
      "source": [
        "a=[3,15,20]\n",
        "a.append(50)\n",
        "print(a)"
      ]
    },
    {
      "cell_type": "code",
      "source": [
        "a.append(\"Lion\")\n",
        "print(a)"
      ],
      "metadata": {
        "id": "6hznCKuNnTVL",
        "colab": {
          "base_uri": "https://localhost:8080/"
        },
        "outputId": "0fbb387c-995a-4cd3-8b47-e6412e3fd80f"
      },
      "execution_count": 2,
      "outputs": [
        {
          "output_type": "stream",
          "name": "stdout",
          "text": [
            "[3, 15, 20, 50, 'Lion']\n"
          ]
        }
      ]
    },
    {
      "cell_type": "code",
      "source": [
        "a[0]=\"안녕\"\n",
        "a[2]=7.8\n",
        "print(a)"
      ],
      "metadata": {
        "colab": {
          "base_uri": "https://localhost:8080/"
        },
        "id": "k37k2AUC_LRz",
        "outputId": "f485b20a-3c57-470b-ed92-6624273f97e8"
      },
      "execution_count": 3,
      "outputs": [
        {
          "output_type": "stream",
          "name": "stdout",
          "text": [
            "['안녕', 15, 7.8, 50, 'Lion']\n"
          ]
        }
      ]
    },
    {
      "cell_type": "code",
      "source": [
        "s=1;n=11;\n",
        "def arithSum(s,n):\n",
        "  sum=0;\n",
        "  for i in range(n):\n",
        "    sum+=i;\n",
        "  return sum;\n",
        "print(\"Sum of\",s,\"thru\",n-1,\"is\",arithSum(s,n))"
      ],
      "metadata": {
        "colab": {
          "base_uri": "https://localhost:8080/"
        },
        "id": "4VmygC_P_UTx",
        "outputId": "6d13e51c-6eec-41da-a0df-a20e25df9a7f"
      },
      "execution_count": 6,
      "outputs": [
        {
          "output_type": "stream",
          "name": "stdout",
          "text": [
            "Sum of 1 thru 10 is 55\n"
          ]
        }
      ]
    },
    {
      "cell_type": "code",
      "source": [
        "print('Hello!')\n",
        "x=77;\n",
        "print('x is',x,\"th\")\n",
        "print(\"Test\")\n",
        "\n",
        "print('My','name','is','Tom')\n",
        "print('My','name','is','Tom',sep='*')\n",
        "\n",
        "x=77;\n",
        "print('x is ',x,\"th\")\n",
        "print('x is ',x,\"th \",sep=\"\")"
      ],
      "metadata": {
        "colab": {
          "base_uri": "https://localhost:8080/"
        },
        "id": "BQjwtFSD_sYL",
        "outputId": "00169d8c-9f30-4963-a747-847e439889f5"
      },
      "execution_count": 7,
      "outputs": [
        {
          "output_type": "stream",
          "name": "stdout",
          "text": [
            "Hello!\n",
            "x is 77 th\n",
            "Test\n",
            "My name is Tom\n",
            "My*name*is*Tom\n",
            "x is  77 th\n",
            "x is 77th \n"
          ]
        }
      ]
    },
    {
      "cell_type": "code",
      "source": [
        "x = 5 #정수\n",
        "y = 10.5 #실수\n",
        "z = x+y\n",
        "print('z is',z)\n",
        "\n",
        "a=(int)(x+y) #type casting을 통해 정수로 변환, 명시적인 타입 변환\n",
        "print('a is',a)\n",
        "\n",
        "x = (20+30) % 10 #10으로 나눈 나머지\n",
        "print(x)\n",
        "\n",
        "print(20/3) #실수 나눗셈(/)\n",
        "print(20//3) #wjdtn sksnttpa(//)"
      ],
      "metadata": {
        "colab": {
          "base_uri": "https://localhost:8080/"
        },
        "id": "2Ti3wISdAvup",
        "outputId": "bb75694e-4367-4d04-93bb-f599b7a37759"
      },
      "execution_count": 9,
      "outputs": [
        {
          "output_type": "stream",
          "name": "stdout",
          "text": [
            "z is 15.5\n",
            "a is 15\n",
            "0\n",
            "6.666666666666667\n",
            "6\n"
          ]
        }
      ]
    },
    {
      "cell_type": "code",
      "source": [
        "list = ['lion','in','oil']\n",
        "print(list)\n",
        "\n",
        "print(\"5's element\")\n",
        "print('5\"s element')\n",
        "print('''5's element''')\n",
        "print(\"4\\ 's element \\\\ 6\\\"s element\")"
      ],
      "metadata": {
        "colab": {
          "base_uri": "https://localhost:8080/"
        },
        "id": "tK02zf__ByOk",
        "outputId": "06aa6799-32a0-4c44-d886-71afecf2b90f"
      },
      "execution_count": 10,
      "outputs": [
        {
          "output_type": "stream",
          "name": "stdout",
          "text": [
            "['lion', 'in', 'oil']\n",
            "5's element\n",
            "5\"s element\n",
            "5's element\n",
            "4\\ 's element \\ 6\"s element\n"
          ]
        }
      ]
    },
    {
      "cell_type": "code",
      "source": [
        "sum=0\n",
        "A=[0,1,2,3,4,5]\n",
        "N=6\n",
        "for i in range(3,N): #시작: 3, 끝:6-1=5, 간격:1\n",
        "  sum += A[i]\n",
        "  i += 1\n",
        "print(sum)\n",
        "\n",
        "N = 100\n",
        "K = 200;\n",
        "print(\"Enter i\")\n",
        "i = int(input())\n",
        "\n",
        "if i < N:\n",
        "  print(i,\"is less than \",N)\n",
        "\n",
        "else:\n",
        "  print(i,\"is no let than \",N)\n",
        "\n",
        "if i < N:\n",
        "  print(\"i <\",N)\n",
        "elif i < K:\n",
        "  print(N,\"<= i <\",K)\n",
        "else:\n",
        "  print(K,\"<= i\")\n",
        "\n"
      ],
      "metadata": {
        "colab": {
          "base_uri": "https://localhost:8080/"
        },
        "id": "52_6cU5ACfJp",
        "outputId": "ddda9f42-5072-4c34-85d8-5b14c4166850"
      },
      "execution_count": 11,
      "outputs": [
        {
          "output_type": "stream",
          "name": "stdout",
          "text": [
            "12\n",
            "Enter i\n",
            "150\n",
            "150 is no let than  100\n",
            "100 <= i < 200\n"
          ]
        }
      ]
    },
    {
      "cell_type": "code",
      "source": [
        "for i in range(10): #시작:0, 끝: 10-1=9, 간격:1\n",
        "  print(i,end=' ')\n",
        "\n",
        "print()\n",
        "for i in range(4,10,2): #시작:4, 끝:10-1=9, 간격:2\n",
        "  print(i,end=' ')\n",
        "\n",
        "print()\n",
        "for i in range(10,4,-2): #시작:10, 끝:4+1=5, 간격:-2\n",
        "  print(i,end=' ')"
      ],
      "metadata": {
        "colab": {
          "base_uri": "https://localhost:8080/"
        },
        "id": "MKu7W3siD1Qm",
        "outputId": "c12a198c-ce47-4b8c-8cab-1ad3b4fc0d0d"
      },
      "execution_count": 12,
      "outputs": [
        {
          "output_type": "stream",
          "name": "stdout",
          "text": [
            "0 1 2 3 4 5 6 7 8 9 \n",
            "4 6 8 \n",
            "10 8 6 "
          ]
        }
      ]
    },
    {
      "cell_type": "code",
      "source": [],
      "metadata": {
        "id": "FG6rui5PE4p7"
      },
      "execution_count": null,
      "outputs": []
    }
  ]
}