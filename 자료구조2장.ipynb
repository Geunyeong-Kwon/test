{
  "nbformat": 4,
  "nbformat_minor": 0,
  "metadata": {
    "colab": {
      "provenance": [],
      "authorship_tag": "ABX9TyM8UsX5sY3rLsVAfgaXkIkt",
      "include_colab_link": true
    },
    "kernelspec": {
      "name": "python3",
      "display_name": "Python 3"
    },
    "language_info": {
      "name": "python"
    }
  },
  "cells": [
    {
      "cell_type": "markdown",
      "metadata": {
        "id": "view-in-github",
        "colab_type": "text"
      },
      "source": [
        "<a href=\"https://colab.research.google.com/github/Geunyeong-Kwon/test/blob/main/%EC%9E%90%EB%A3%8C%EA%B5%AC%EC%A1%B02%EC%9E%A5.ipynb\" target=\"_parent\"><img src=\"https://colab.research.google.com/assets/colab-badge.svg\" alt=\"Open In Colab\"/></a>"
      ]
    },
    {
      "cell_type": "code",
      "execution_count": 1,
      "metadata": {
        "colab": {
          "base_uri": "https://localhost:8080/"
        },
        "id": "lUL_kHshPb6U",
        "outputId": "0de7e71c-ce6b-48ee-c58e-220a6b34884a"
      },
      "outputs": [
        {
          "output_type": "stream",
          "name": "stdout",
          "text": [
            "enter n :5\n",
            "number is : 13\n"
          ]
        }
      ],
      "source": [
        "#등차수열\n",
        "def seq(n):\n",
        "  if n==1:\n",
        "    return 1\n",
        "\n",
        "  else:\n",
        "    return seq(n-1)+3\n",
        "\n",
        "a = seq(int(input(\"enter n :\")))\n",
        "print(\"number is :\", a)"
      ]
    },
    {
      "cell_type": "code",
      "source": [
        "#피보나치 수열\n",
        "def fib(n):\n",
        "  if n==1 or n==2:\n",
        "    return 1\n",
        "  \n",
        "  else:\n",
        "    return fib(n-1)+fib(n-2)\n",
        "  \n",
        "x = seq(int(input(\"enter n :\")))\n",
        "print(\"number is :\", x)"
      ],
      "metadata": {
        "colab": {
          "base_uri": "https://localhost:8080/"
        },
        "id": "Vj7g_gNAQYvL",
        "outputId": "c4f8530e-bb28-4ce6-fa75-e8bd025c3f08"
      },
      "execution_count": 3,
      "outputs": [
        {
          "output_type": "stream",
          "name": "stdout",
          "text": [
            "enter n :6\n",
            "number is : 16\n"
          ]
        }
      ]
    },
    {
      "cell_type": "code",
      "source": [
        "#하노이 탑\n",
        "def hanoi(n,a,b,c):\n",
        "  if n==1:\n",
        "    print(a,'->',b)\n",
        "    return\n",
        "  \n",
        "  hanoi(n-1,a,c,b)\n",
        "  print(a,'->,b')\n",
        "  hanoi(n-1,c,b,a)\n",
        "\n",
        "print('n=3')\n",
        "hanoi(3,1,2,3)"
      ],
      "metadata": {
        "colab": {
          "base_uri": "https://localhost:8080/"
        },
        "id": "r_eVX38AQsQF",
        "outputId": "190c9288-4700-4812-90b4-3d035ce7a45f"
      },
      "execution_count": 4,
      "outputs": [
        {
          "output_type": "stream",
          "name": "stdout",
          "text": [
            "n=3\n",
            "1 -> 2\n",
            "1 ->,b\n",
            "2 -> 3\n",
            "1 ->,b\n",
            "3 -> 1\n",
            "3 ->,b\n",
            "1 -> 2\n"
          ]
        }
      ]
    },
    {
      "cell_type": "code",
      "source": [
        "#선택 정렬\n",
        "def sel_sort(a):\n",
        "  n = len(a)\n",
        "  b = []\n",
        "  while n > 1:\n",
        "    x = max(a)\n",
        "    a.remove(x)\n",
        "    b = [x] + b\n",
        "    n = n-1\n",
        "  return b"
      ],
      "metadata": {
        "id": "CzRTcMLPRWCg"
      },
      "execution_count": 5,
      "outputs": []
    },
    {
      "cell_type": "code",
      "source": [
        "#재귀적 선택 정렬\n",
        "def sel_sort_rec(a): #a에 원소가 있으면 재귀함수를 호출출\n",
        "  if a!= []:\n",
        "    x = max(a) #최대값과 최대값의 위치를 찾는다다\n",
        "    a.remove(x) #최대값의 위치에 있는 원소를 제거한다다\n",
        "    return sel_sort_rec(a) + [x] #최대값을 가장 뒤의 원소로 두고 자기 호출출\n",
        "\n",
        "  else:\n",
        "    return []\n",
        "\n",
        "a = [4,3,5,1,2,6,8,9,3,5,2,6,7]\n",
        "print('입력 행렬',a)\n",
        "b = sel_sort(a)\n",
        "print('선택정렬 결과',b)\n",
        "\n",
        "a = [4,3,5,1,2,6,8,93,5,2,6,7]\n",
        "c = sel_sort_rec(a)\n",
        "print('재귀버전 결과',c)"
      ],
      "metadata": {
        "colab": {
          "base_uri": "https://localhost:8080/"
        },
        "id": "4TplNY9kSgSt",
        "outputId": "fbc62829-2294-4333-c2ef-f5c32c6b6d4a"
      },
      "execution_count": 8,
      "outputs": [
        {
          "output_type": "stream",
          "name": "stdout",
          "text": [
            "입력 행렬 [4, 3, 5, 1, 2, 6, 8, 9, 3, 5, 2, 6, 7]\n",
            "선택정렬 결과 [2, 2, 3, 3, 4, 5, 5, 6, 6, 7, 8, 9]\n",
            "재귀버전 결과 [1, 2, 2, 3, 4, 5, 5, 6, 6, 7, 8, 93]\n"
          ]
        }
      ]
    },
    {
      "cell_type": "code",
      "source": [],
      "metadata": {
        "id": "ITfj7QBSSobL"
      },
      "execution_count": null,
      "outputs": []
    }
  ]
}